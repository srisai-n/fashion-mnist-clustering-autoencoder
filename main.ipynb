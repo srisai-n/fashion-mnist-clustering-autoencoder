{
 "cells": [
  {
   "cell_type": "markdown",
   "metadata": {
    "colab_type": "text",
    "id": "Ge2mpGTaljcy"
   },
   "source": [
    "# CSE 574 Introduction to Machine Learning Fall 2019 Project 3\n",
    "# Clustering Fashion Clothing Images using Unsupervised Learning\n",
    "## Srisai Karthik Neelamraju, neelamra@buffalo.edu"
   ]
  },
  {
   "cell_type": "markdown",
   "metadata": {
    "colab_type": "text",
    "id": "h5qTobFHltan"
   },
   "source": [
    "### Importing the required libraries"
   ]
  },
  {
   "cell_type": "code",
   "execution_count": 0,
   "metadata": {
    "colab": {
     "base_uri": "https://localhost:8080/",
     "height": 80
    },
    "colab_type": "code",
    "id": "YwFnKpohslk9",
    "outputId": "12b7ea6b-479e-4927-f752-71761c53e8d8"
   },
   "outputs": [
    {
     "name": "stderr",
     "output_type": "stream",
     "text": [
      "Using TensorFlow backend.\n"
     ]
    },
    {
     "data": {
      "text/html": [
       "<p style=\"color: red;\">\n",
       "The default version of TensorFlow in Colab will soon switch to TensorFlow 2.x.<br>\n",
       "We recommend you <a href=\"https://www.tensorflow.org/guide/migrate\" target=\"_blank\">upgrade</a> now \n",
       "or ensure your notebook will continue to use TensorFlow 1.x via the <code>%tensorflow_version 1.x</code> magic:\n",
       "<a href=\"https://colab.research.google.com/notebooks/tensorflow_version.ipynb\" target=\"_blank\">more info</a>.</p>\n"
      ],
      "text/plain": [
       "<IPython.core.display.HTML object>"
      ]
     },
     "metadata": {
      "tags": []
     },
     "output_type": "display_data"
    }
   ],
   "source": [
    "import numpy as np\n",
    "from sklearn import preprocessing, metrics\n",
    "from sklearn.mixture import GaussianMixture\n",
    "from sklearn.cluster import KMeans\n",
    "from scipy.optimize import linear_sum_assignment\n",
    "import matplotlib.pyplot as plt\n",
    "import keras\n",
    "from keras.datasets import fashion_mnist\n",
    "from keras.models import Input, Model\n",
    "from tensorflow import set_random_seed\n",
    "\n",
    "np.random.seed(1)\n",
    "set_random_seed(10)"
   ]
  },
  {
   "cell_type": "markdown",
   "metadata": {
    "colab_type": "text",
    "id": "VvBrlsF1mHK1"
   },
   "source": [
    "### Helper Functions"
   ]
  },
  {
   "cell_type": "code",
   "execution_count": 0,
   "metadata": {
    "colab": {},
    "colab_type": "code",
    "id": "3XOM96t-mbAA"
   },
   "outputs": [],
   "source": [
    "# function to calculate accuracy\n",
    "def get_accuracy(Y_expected, Y_pred):\n",
    "  return metrics.accuracy_score(Y_expected, Y_pred)\n",
    "\n",
    "# function to calculate confusion matrix\n",
    "def get_confusion_matrix(Y_expected, Y_pred):\n",
    "  return metrics.confusion_matrix(Y_expected, Y_pred)\n",
    "\n",
    "# function to adjust the predicted labels\n",
    "def get_adjusted_labels(Y_expected, Y_pred):\n",
    "  conf_mtx = get_confusion_matrix(Y_expected, Y_pred).T\n",
    "  adjusted_labels = linear_sum_assignment(conf_mtx.max() - conf_mtx)[1]\n",
    "  # replacing the labels 0 to 9 with 10 to 19\n",
    "  for i in range(10):\n",
    "    Y_pred = np.where(Y_pred == i, i + 10, Y_pred)\n",
    "  # replacing the labels 10 to 19 with the adjusted ones\n",
    "  for i in range(10):\n",
    "    Y_pred = np.where(Y_pred == i + 10, adjusted_labels[i], Y_pred)\n",
    "  return Y_pred, adjusted_labels"
   ]
  },
  {
   "cell_type": "markdown",
   "metadata": {
    "colab_type": "text",
    "id": "5MVCZ81xmjIk"
   },
   "source": [
    "### Reading the Fashion MNIST dataset"
   ]
  },
  {
   "cell_type": "code",
   "execution_count": 0,
   "metadata": {
    "colab": {
     "base_uri": "https://localhost:8080/",
     "height": 153
    },
    "colab_type": "code",
    "id": "8jmAY_d2ssP1",
    "outputId": "e9b74546-42f0-42de-c570-49ac93c0a66c"
   },
   "outputs": [
    {
     "name": "stdout",
     "output_type": "stream",
     "text": [
      "Downloading data from http://fashion-mnist.s3-website.eu-central-1.amazonaws.com/train-labels-idx1-ubyte.gz\n",
      "32768/29515 [=================================] - 0s 1us/step\n",
      "Downloading data from http://fashion-mnist.s3-website.eu-central-1.amazonaws.com/train-images-idx3-ubyte.gz\n",
      "26427392/26421880 [==============================] - 0s 0us/step\n",
      "Downloading data from http://fashion-mnist.s3-website.eu-central-1.amazonaws.com/t10k-labels-idx1-ubyte.gz\n",
      "8192/5148 [===============================================] - 0s 0us/step\n",
      "Downloading data from http://fashion-mnist.s3-website.eu-central-1.amazonaws.com/t10k-images-idx3-ubyte.gz\n",
      "4423680/4422102 [==============================] - 0s 0us/step\n"
     ]
    }
   ],
   "source": [
    "(X_train, Y_train), (X_test, Y_test) = fashion_mnist.load_data()\n",
    "\n",
    "# finding the number of training and test set instances\n",
    "n_train = X_train.shape[0]\n",
    "n_test = X_test.shape[0]"
   ]
  },
  {
   "cell_type": "markdown",
   "metadata": {
    "colab_type": "text",
    "id": "yf3Px1J7m0th"
   },
   "source": [
    "### Preprocessing the dataset"
   ]
  },
  {
   "cell_type": "code",
   "execution_count": 0,
   "metadata": {
    "colab": {},
    "colab_type": "code",
    "id": "0Cq_67wLm1fu"
   },
   "outputs": [],
   "source": [
    "# min-max scaling of the features\n",
    "X_train = X_train / 255.0\n",
    "X_test = X_test / 255.0\n",
    "\n",
    "# flattening the 28 x 28 input images\n",
    "X_train = X_train.reshape(n_train, 784)\n",
    "X_test = X_test.reshape(n_test, 784)"
   ]
  },
  {
   "cell_type": "markdown",
   "metadata": {
    "colab_type": "text",
    "id": "0u0YNR2nmuar"
   },
   "source": [
    "### Reshaping the testing data"
   ]
  },
  {
   "cell_type": "code",
   "execution_count": 0,
   "metadata": {
    "colab": {},
    "colab_type": "code",
    "id": "QFoN5dEpmtvq"
   },
   "outputs": [],
   "source": [
    "# reshaping Y_train and Y_test to get rid of rank 1 Python arrays\n",
    "Y_train = np.array(Y_train).reshape(n_train, 1)\n",
    "Y_test = np.array(Y_test).reshape(n_test, 1)"
   ]
  },
  {
   "cell_type": "markdown",
   "metadata": {
    "colab_type": "text",
    "id": "8JTEki4-nqJW"
   },
   "source": [
    "## Task 1: Using K-Means to cluster the Fashion MNIST data space"
   ]
  },
  {
   "cell_type": "markdown",
   "metadata": {
    "colab_type": "text",
    "id": "fYs4CdnjCdWR"
   },
   "source": [
    "### Defining the initial parameters"
   ]
  },
  {
   "cell_type": "code",
   "execution_count": 0,
   "metadata": {
    "colab": {},
    "colab_type": "code",
    "id": "c3Q0ZvL-CcpY"
   },
   "outputs": [],
   "source": [
    "# default number of clusters\n",
    "n_clusters = 10\n",
    "\n",
    "# maximum value for number of clusters\n",
    "max_clusters = 25"
   ]
  },
  {
   "cell_type": "markdown",
   "metadata": {
    "colab_type": "text",
    "id": "SUQMSPvWBS3_"
   },
   "source": [
    "### Implementing K-Means algorithm"
   ]
  },
  {
   "cell_type": "code",
   "execution_count": 0,
   "metadata": {
    "colab": {},
    "colab_type": "code",
    "id": "OnFwmg2c_cpl"
   },
   "outputs": [],
   "source": [
    "# list to keep track of sum of squared errors on the training set\n",
    "sse_train = []\n",
    "\n",
    "# trying k-means for different values of n_clusters around 10\n",
    "for n in range(1, max_clusters + 1):\n",
    "  kmeans = KMeans(n_clusters=n, n_init=10, random_state=42)\n",
    "  kmeans.fit(X_train)\n",
    "  sse_train.append(kmeans.inertia_)"
   ]
  },
  {
   "cell_type": "markdown",
   "metadata": {
    "colab_type": "text",
    "id": "vDl2f5QoBtrk"
   },
   "source": [
    "### Plotting the SSE for different number of clusters"
   ]
  },
  {
   "cell_type": "code",
   "execution_count": 0,
   "metadata": {
    "colab": {
     "base_uri": "https://localhost:8080/",
     "height": 329
    },
    "colab_type": "code",
    "id": "2wiCZAqUB5Me",
    "outputId": "d6984c39-629c-4661-9e03-1a3f02ab7dec"
   },
   "outputs": [
    {
     "data": {
      "image/png": "[encoded data removed]",
      "text/plain": [
       "<Figure size 432x288 with 1 Axes>"
      ]
     },
     "metadata": {
      "tags": []
     },
     "output_type": "display_data"
    },
    {
     "data": {
      "text/plain": [
       "<Figure size 432x288 with 0 Axes>"
      ]
     },
     "execution_count": 13,
     "metadata": {
      "tags": []
     },
     "output_type": "execute_result"
    },
    {
     "data": {
      "text/plain": [
       "<Figure size 432x288 with 0 Axes>"
      ]
     },
     "metadata": {
      "tags": []
     },
     "output_type": "display_data"
    }
   ],
   "source": [
    "plt.plot(range(1, max_clusters + 1), sse_train, color='red', marker='x', linestyle='dashed', linewidth=1.4)\n",
    "plt.grid(color='#ADD8E6', linestyle='-', linewidth=0.6)\n",
    "plt.title('Comparison of Sum of Squared Errors')\n",
    "plt.xlabel('Number of clusters')\n",
    "plt.ylabel('Sum of squared errors')\n",
    "plt.savefig('kmeans_sse_vs_nclusters.jpg', format='jpg', dpi=1000)\n",
    "plt.show()\n",
    "plt.figure()"
   ]
  },
  {
   "cell_type": "markdown",
   "metadata": {
    "colab_type": "text",
    "id": "BxKyBAwOJWqA"
   },
   "source": [
    "### Fitting the training data to the best model (with 10 clusters)"
   ]
  },
  {
   "cell_type": "code",
   "execution_count": 0,
   "metadata": {
    "colab": {
     "base_uri": "https://localhost:8080/",
     "height": 68
    },
    "colab_type": "code",
    "id": "wCN4ogvjJWSn",
    "outputId": "4bed7105-a320-4887-d0a6-7873f9c6b105"
   },
   "outputs": [
    {
     "data": {
      "text/plain": [
       "KMeans(algorithm='auto', copy_x=True, init='k-means++', max_iter=300,\n",
       "       n_clusters=10, n_init=10, n_jobs=None, precompute_distances='auto',\n",
       "       random_state=None, tol=0.0001, verbose=0)"
      ]
     },
     "execution_count": 7,
     "metadata": {
      "tags": []
     },
     "output_type": "execute_result"
    }
   ],
   "source": [
    "kmeans_best = KMeans(n_clusters=10, n_init=10)\n",
    "kmeans_best.fit(X_train)"
   ]
  },
  {
   "cell_type": "markdown",
   "metadata": {
    "colab_type": "text",
    "id": "SW1Cid55G5MP"
   },
   "source": [
    "### Visualizing the K-Means cluster centroids"
   ]
  },
  {
   "cell_type": "code",
   "execution_count": 0,
   "metadata": {
    "colab": {
     "base_uri": "https://localhost:8080/",
     "height": 223
    },
    "colab_type": "code",
    "id": "ltZpg0eZG6ci",
    "outputId": "f4528102-eeb1-49ab-c421-39ee025b7655"
   },
   "outputs": [
    {
     "data": {
      "image/png": "[encoded data removed]",
      "text/plain": [
       "<Figure size 432x288 with 10 Axes>"
      ]
     },
     "metadata": {
      "tags": []
     },
     "output_type": "display_data"
    }
   ],
   "source": [
    "for i in range(n_clusters):\n",
    "  plt.subplot(2, 5, i + 1)\n",
    "  plt.imshow(kmeans_best.cluster_centers_[i][:].reshape(28, 28), cmap='gray')\n",
    "  plt.title('Cluster ' + str(i))\n",
    "  plt.axis('off')"
   ]
  },
  {
   "cell_type": "markdown",
   "metadata": {
    "colab_type": "text",
    "id": "LLf1ePteI7MO"
   },
   "source": [
    "### Predicting clusters for the training and test set images"
   ]
  },
  {
   "cell_type": "code",
   "execution_count": 0,
   "metadata": {
    "colab": {},
    "colab_type": "code",
    "id": "7lxFh2d3qmxC"
   },
   "outputs": [],
   "source": [
    "Y_pred_train_km = kmeans_best.predict(X_train).reshape(X_train.shape[0], 1)\n",
    "Y_pred_test_km = kmeans_best.predict(X_test).reshape(X_test.shape[0], 1)"
   ]
  },
  {
   "cell_type": "code",
   "execution_count": 0,
   "metadata": {
    "colab": {
     "base_uri": "https://localhost:8080/",
     "height": 272
    },
    "colab_type": "code",
    "id": "2QIGBgvVQaY8",
    "outputId": "60ac5aae-ac66-4027-c9c6-d40b81c7ef9f"
   },
   "outputs": [
    {
     "name": "stdout",
     "output_type": "stream",
     "text": [
      "ANALYSIS BEFORE ADJUSTING THE CLUSTER LABELS\n",
      "\n",
      "Accuracy on the training set - 0.03298333333333334 \n",
      "\n",
      "Confusion Matrix for performance on the training set -\n",
      " [[   2  451 3410 1703  175   29  173   39    0   18]\n",
      " [   0  133  236  149 5408    0   28   44    0    2]\n",
      " [   1  435   84 1693    8   24 1884 1850    0   21]\n",
      " [   0  422 1706  647 3143    8   17   53    1    3]\n",
      " [   0  209  711  931  148   26  929 3033    0   13]\n",
      " [1452 3988    3   49    1   12    0    0  485   10]\n",
      " [   6  642 1035 2070   50   19  940 1194    2   42]\n",
      " [5069  636    0    1    0    0    0    0  288    6]\n",
      " [ 291  430   21  319   20 2434  284   38    8 2155]\n",
      " [ 681  198    8   62    3    3    1    9 5030    5]]\n"
     ]
    }
   ],
   "source": [
    "print(\"ANALYSIS BEFORE ADJUSTING THE CLUSTER LABELS\\n\")\n",
    "\n",
    "print(\"Accuracy on the training set -\", get_accuracy(Y_train, Y_pred_train_km), \"\\n\")\n",
    "print(\"Confusion Matrix for performance on the training set -\\n\", get_confusion_matrix(Y_train, Y_pred_train_km))"
   ]
  },
  {
   "cell_type": "markdown",
   "metadata": {
    "colab_type": "text",
    "id": "QbgTh-EQNl-u"
   },
   "source": [
    "### Adjusting the predicted train and test set labels"
   ]
  },
  {
   "cell_type": "code",
   "execution_count": 0,
   "metadata": {
    "colab": {},
    "colab_type": "code",
    "id": "syhz6HZiVTgz"
   },
   "outputs": [],
   "source": [
    "Y_pred_train_km, adjusted_labels = get_adjusted_labels(Y_train, Y_pred_train_km)\n",
    "\n",
    "# replacing the labels 0 to 9 with 10 to 19\n",
    "for i in range(10):\n",
    "  Y_pred_test_km = np.where(Y_pred_test_km == i, i + 10, Y_pred_test_km)\n",
    "# replacing the labels 10 to 19 with the adjusted ones\n",
    "for i in range(10):\n",
    "  Y_pred_test_km = np.where(Y_pred_test_km == i + 10, adjusted_labels[i], Y_pred_test_km)"
   ]
  },
  {
   "cell_type": "markdown",
   "metadata": {
    "colab_type": "text",
    "id": "FMmUBFGVIoN8"
   },
   "source": [
    "### Evaluating the K-Means model"
   ]
  },
  {
   "cell_type": "markdown",
   "metadata": {
    "colab_type": "text",
    "id": "H3axMkIzUgPd"
   },
   "source": [
    "#### On the training set"
   ]
  },
  {
   "cell_type": "code",
   "execution_count": 0,
   "metadata": {
    "colab": {
     "base_uri": "https://localhost:8080/",
     "height": 272
    },
    "colab_type": "code",
    "id": "BSTFidceRpF-",
    "outputId": "e40e5e6a-1db1-4d1e-aebc-d3b7d3379a00"
   },
   "outputs": [
    {
     "name": "stdout",
     "output_type": "stream",
     "text": [
      "ANALYSIS FOR K-MEANS CLUSTERING ALGORITHM\n",
      "\n",
      "Accuracy on the training set - 0.5388166666666667 \n",
      "\n",
      "Confusion Matrix for performance on the training set -\n",
      " [[3410  175  173   18   39  451 1703    2   29    0]\n",
      " [ 236 5408   28    2   44  133  149    0    0    0]\n",
      " [  84    8 1884   21 1850  435 1693    1   24    0]\n",
      " [1706 3143   17    3   53  422  647    0    8    1]\n",
      " [ 711  148  929   13 3033  209  931    0   26    0]\n",
      " [   3    1    0   10    0 3988   49 1452   12  485]\n",
      " [1035   50  940   42 1194  642 2070    6   19    2]\n",
      " [   0    0    0    6    0  636    1 5069    0  288]\n",
      " [  21   20  284 2155   38  430  319  291 2434    8]\n",
      " [   8    3    1    5    9  198   62  681    3 5030]]\n"
     ]
    }
   ],
   "source": [
    "print(\"ANALYSIS FOR K-MEANS CLUSTERING ALGORITHM\\n\")\n",
    "\n",
    "print(\"Accuracy on the training set -\", get_accuracy(Y_train, Y_pred_train_km), \"\\n\")\n",
    "print(\"Confusion Matrix for performance on the training set -\\n\", get_confusion_matrix(Y_train, Y_pred_train_km))"
   ]
  },
  {
   "cell_type": "markdown",
   "metadata": {
    "colab_type": "text",
    "id": "cSWah5zDUl11"
   },
   "source": [
    "#### On the test set"
   ]
  },
  {
   "cell_type": "code",
   "execution_count": 0,
   "metadata": {
    "colab": {
     "base_uri": "https://localhost:8080/",
     "height": 272
    },
    "colab_type": "code",
    "id": "2LLi16TiInmT",
    "outputId": "186c50c4-d100-4010-beb2-560ef475a008"
   },
   "outputs": [
    {
     "name": "stdout",
     "output_type": "stream",
     "text": [
      "ANALYSIS FOR K-MEANS CLUSTERING ALGORITHM\n",
      "\n",
      "Accuracy on the test set - 0.5455 \n",
      "\n",
      "Confusion Matrix for performance on the test set -\n",
      " [[588  24  36   5   7  67 267   1   5   0]\n",
      " [ 49 888   2   0  11  20  30   0   0   0]\n",
      " [ 14   4 313   2 289  49 325   0   4   0]\n",
      " [280 491   3   2  12  75 134   0   3   0]\n",
      " [102  25 184   2 511  36 135   0   5   0]\n",
      " [  0   0   0   3   0 682   8 228   0  79]\n",
      " [185  11 143  13 192 100 356   0   0   0]\n",
      " [  0   0   0   1   0  83   0 866   0  50]\n",
      " [  3   4  61 348   7  69  55  48 405   0]\n",
      " [  0   0   1   2   1  36   7 107   2 844]]\n"
     ]
    }
   ],
   "source": [
    "print(\"ANALYSIS FOR K-MEANS CLUSTERING ALGORITHM\\n\")\n",
    "\n",
    "print(\"Accuracy on the test set -\", get_accuracy(Y_test, Y_pred_test_km), \"\\n\")\n",
    "print(\"Confusion Matrix for performance on the test set -\\n\", get_confusion_matrix(Y_test, Y_pred_test_km))"
   ]
  },
  {
   "cell_type": "markdown",
   "metadata": {
    "colab_type": "text",
    "id": "8minNb1WnsKl"
   },
   "source": [
    "## Task 2: Using Auto-Encoder based K-Means to cluster the Fashion MNIST data space"
   ]
  },
  {
   "cell_type": "markdown",
   "metadata": {
    "colab_type": "text",
    "id": "IeXKqtX_qPDV"
   },
   "source": [
    "### Defining hyperparameters for training the autoencoder"
   ]
  },
  {
   "cell_type": "code",
   "execution_count": 0,
   "metadata": {
    "colab": {},
    "colab_type": "code",
    "id": "c24Dtv46qSKC"
   },
   "outputs": [],
   "source": [
    "# number of epochs for training\n",
    "epochs_train = 100\n",
    "\n",
    "# mini-batch size\n",
    "minibatch_size = 256"
   ]
  },
  {
   "cell_type": "markdown",
   "metadata": {
    "colab_type": "text",
    "id": "e693LyOnpYk5"
   },
   "source": [
    "### Defining the multi-layer autoencoder architecture"
   ]
  },
  {
   "cell_type": "code",
   "execution_count": 0,
   "metadata": {
    "colab": {
     "base_uri": "https://localhost:8080/",
     "height": 513
    },
    "colab_type": "code",
    "id": "xdsgdVjBtU6L",
    "outputId": "9d4b0342-d596-467e-aa11-a779145b1054"
   },
   "outputs": [
    {
     "name": "stdout",
     "output_type": "stream",
     "text": [
      "WARNING:tensorflow:From /usr/local/lib/python3.6/dist-packages/keras/backend/tensorflow_backend.py:66: The name tf.get_default_graph is deprecated. Please use tf.compat.v1.get_default_graph instead.\n",
      "\n",
      "WARNING:tensorflow:From /usr/local/lib/python3.6/dist-packages/keras/backend/tensorflow_backend.py:541: The name tf.placeholder is deprecated. Please use tf.compat.v1.placeholder instead.\n",
      "\n",
      "WARNING:tensorflow:From /usr/local/lib/python3.6/dist-packages/keras/backend/tensorflow_backend.py:4432: The name tf.random_uniform is deprecated. Please use tf.random.uniform instead.\n",
      "\n",
      "Model: \"sequential_1\"\n",
      "_________________________________________________________________\n",
      "Layer (type)                 Output Shape              Param #   \n",
      "=================================================================\n",
      "dense_1 (Dense)              (None, 512)               401920    \n",
      "_________________________________________________________________\n",
      "dense_2 (Dense)              (None, 256)               131328    \n",
      "_________________________________________________________________\n",
      "dense_3 (Dense)              (None, 128)               32896     \n",
      "_________________________________________________________________\n",
      "dense_4 (Dense)              (None, 49)                6321      \n",
      "_________________________________________________________________\n",
      "dense_5 (Dense)              (None, 128)               6400      \n",
      "_________________________________________________________________\n",
      "dense_6 (Dense)              (None, 256)               33024     \n",
      "_________________________________________________________________\n",
      "dense_7 (Dense)              (None, 784)               201488    \n",
      "=================================================================\n",
      "Total params: 813,377\n",
      "Trainable params: 813,377\n",
      "Non-trainable params: 0\n",
      "_________________________________________________________________\n"
     ]
    }
   ],
   "source": [
    "autoencoder = keras.Sequential()\n",
    "\n",
    "autoencoder.add(keras.layers.Dense(512, activation='relu', input_shape = (784, )))\n",
    "autoencoder.add(keras.layers.Dense(256, activation='relu'))\n",
    "autoencoder.add(keras.layers.Dense(128, activation='relu'))\n",
    "autoencoder.add(keras.layers.Dense(49, activation='sigmoid'))\n",
    "\n",
    "autoencoder.add(keras.layers.Dense(128, activation='relu'))\n",
    "autoencoder.add(keras.layers.Dense(256, activation='relu'))\n",
    "autoencoder.add(keras.layers.Dense(784, activation='sigmoid'))\n",
    "\n",
    "# layer number from which the decoder starts\n",
    "decoder_layer = 4\n",
    "\n",
    "# display the autoencoder architecture\n",
    "autoencoder.summary()"
   ]
  },
  {
   "cell_type": "markdown",
   "metadata": {
    "colab_type": "text",
    "id": "fCaLDe9ppJsU"
   },
   "source": [
    "### Compiling the autoencoder"
   ]
  },
  {
   "cell_type": "code",
   "execution_count": 0,
   "metadata": {
    "colab": {
     "base_uri": "https://localhost:8080/",
     "height": 71
    },
    "colab_type": "code",
    "id": "ea6a8sjWtYdX",
    "outputId": "190ba63c-b21f-4351-e957-a31a695896aa"
   },
   "outputs": [
    {
     "name": "stdout",
     "output_type": "stream",
     "text": [
      "WARNING:tensorflow:From /usr/local/lib/python3.6/dist-packages/keras/optimizers.py:793: The name tf.train.Optimizer is deprecated. Please use tf.compat.v1.train.Optimizer instead.\n",
      "\n"
     ]
    }
   ],
   "source": [
    "autoencoder.compile(loss='mean_squared_error', optimizer='Adam')"
   ]
  },
  {
   "cell_type": "markdown",
   "metadata": {
    "colab_type": "text",
    "id": "TTp3MaD9pQlz"
   },
   "source": [
    "### Training the autoencoder"
   ]
  },
  {
   "cell_type": "code",
   "execution_count": 0,
   "metadata": {
    "colab": {
     "base_uri": "https://localhost:8080/",
     "height": 1000
    },
    "colab_type": "code",
    "id": "ws3gv1ERtatT",
    "outputId": "a2f7f3ff-0a1f-41c6-9304-bb7696c8506b"
   },
   "outputs": [
    {
     "name": "stdout",
     "output_type": "stream",
     "text": [
      "WARNING:tensorflow:From /usr/local/lib/python3.6/dist-packages/keras/backend/tensorflow_backend.py:1033: The name tf.assign_add is deprecated. Please use tf.compat.v1.assign_add instead.\n",
      "\n",
      "WARNING:tensorflow:From /usr/local/lib/python3.6/dist-packages/keras/backend/tensorflow_backend.py:1020: The name tf.assign is deprecated. Please use tf.compat.v1.assign instead.\n",
      "\n",
      "WARNING:tensorflow:From /usr/local/lib/python3.6/dist-packages/keras/backend/tensorflow_backend.py:3005: The name tf.Session is deprecated. Please use tf.compat.v1.Session instead.\n",
      "\n",
      "Train on 60000 samples, validate on 10000 samples\n",
      "Epoch 1/100\n",
      "WARNING:tensorflow:From /usr/local/lib/python3.6/dist-packages/keras/backend/tensorflow_backend.py:190: The name tf.get_default_session is deprecated. Please use tf.compat.v1.get_default_session instead.\n",
      "\n",
      "WARNING:tensorflow:From /usr/local/lib/python3.6/dist-packages/keras/backend/tensorflow_backend.py:197: The name tf.ConfigProto is deprecated. Please use tf.compat.v1.ConfigProto instead.\n",
      "\n",
      "WARNING:tensorflow:From /usr/local/lib/python3.6/dist-packages/keras/backend/tensorflow_backend.py:207: The name tf.global_variables is deprecated. Please use tf.compat.v1.global_variables instead.\n",
      "\n",
      "WARNING:tensorflow:From /usr/local/lib/python3.6/dist-packages/keras/backend/tensorflow_backend.py:216: The name tf.is_variable_initialized is deprecated. Please use tf.compat.v1.is_variable_initialized instead.\n",
      "\n",
      "WARNING:tensorflow:From /usr/local/lib/python3.6/dist-packages/keras/backend/tensorflow_backend.py:223: The name tf.variables_initializer is deprecated. Please use tf.compat.v1.variables_initializer instead.\n",
      "\n",
      "60000/60000 [==============================] - 6s 96us/step - loss: 0.0611 - val_loss: 0.0383\n",
      "Epoch 2/100\n",
      "60000/60000 [==============================] - 1s 25us/step - loss: 0.0294 - val_loss: 0.0244\n",
      "Epoch 3/100\n",
      "60000/60000 [==============================] - 1s 25us/step - loss: 0.0230 - val_loss: 0.0218\n",
      "Epoch 4/100\n",
      "60000/60000 [==============================] - 1s 24us/step - loss: 0.0204 - val_loss: 0.0194\n",
      "Epoch 5/100\n",
      "60000/60000 [==============================] - 1s 25us/step - loss: 0.0186 - val_loss: 0.0183\n",
      "Epoch 6/100\n",
      "60000/60000 [==============================] - 1s 25us/step - loss: 0.0175 - val_loss: 0.0170\n",
      "Epoch 7/100\n",
      "60000/60000 [==============================] - 1s 24us/step - loss: 0.0165 - val_loss: 0.0162\n",
      "Epoch 8/100\n",
      "60000/60000 [==============================] - 2s 25us/step - loss: 0.0159 - val_loss: 0.0158\n",
      "Epoch 9/100\n",
      "60000/60000 [==============================] - 1s 25us/step - loss: 0.0153 - val_loss: 0.0152\n",
      "Epoch 10/100\n",
      "60000/60000 [==============================] - 1s 24us/step - loss: 0.0148 - val_loss: 0.0146\n",
      "Epoch 11/100\n",
      "60000/60000 [==============================] - 1s 25us/step - loss: 0.0143 - val_loss: 0.0142\n",
      "Epoch 12/100\n",
      "60000/60000 [==============================] - 1s 24us/step - loss: 0.0140 - val_loss: 0.0140\n",
      "Epoch 13/100\n",
      "60000/60000 [==============================] - 1s 24us/step - loss: 0.0136 - val_loss: 0.0136\n",
      "Epoch 14/100\n",
      "60000/60000 [==============================] - 1s 25us/step - loss: 0.0133 - val_loss: 0.0135\n",
      "Epoch 15/100\n",
      "60000/60000 [==============================] - 2s 26us/step - loss: 0.0130 - val_loss: 0.0131\n",
      "Epoch 16/100\n",
      "60000/60000 [==============================] - 2s 26us/step - loss: 0.0128 - val_loss: 0.0130\n",
      "Epoch 17/100\n",
      "60000/60000 [==============================] - 2s 26us/step - loss: 0.0125 - val_loss: 0.0127\n",
      "Epoch 18/100\n",
      "60000/60000 [==============================] - 2s 26us/step - loss: 0.0123 - val_loss: 0.0123\n",
      "Epoch 19/100\n",
      "60000/60000 [==============================] - 2s 26us/step - loss: 0.0121 - val_loss: 0.0121\n",
      "Epoch 20/100\n",
      "60000/60000 [==============================] - 2s 26us/step - loss: 0.0118 - val_loss: 0.0120\n",
      "Epoch 21/100\n",
      "60000/60000 [==============================] - 2s 26us/step - loss: 0.0117 - val_loss: 0.0119\n",
      "Epoch 22/100\n",
      "60000/60000 [==============================] - 1s 25us/step - loss: 0.0115 - val_loss: 0.0116\n",
      "Epoch 23/100\n",
      "60000/60000 [==============================] - 1s 25us/step - loss: 0.0114 - val_loss: 0.0116\n",
      "Epoch 24/100\n",
      "60000/60000 [==============================] - 1s 25us/step - loss: 0.0112 - val_loss: 0.0114\n",
      "Epoch 25/100\n",
      "60000/60000 [==============================] - 1s 25us/step - loss: 0.0111 - val_loss: 0.0113\n",
      "Epoch 26/100\n",
      "60000/60000 [==============================] - 1s 25us/step - loss: 0.0110 - val_loss: 0.0112\n",
      "Epoch 27/100\n",
      "60000/60000 [==============================] - 1s 24us/step - loss: 0.0109 - val_loss: 0.0110\n",
      "Epoch 28/100\n",
      "60000/60000 [==============================] - 2s 25us/step - loss: 0.0108 - val_loss: 0.0110\n",
      "Epoch 29/100\n",
      "60000/60000 [==============================] - 2s 25us/step - loss: 0.0106 - val_loss: 0.0108\n",
      "Epoch 30/100\n",
      "60000/60000 [==============================] - 1s 25us/step - loss: 0.0105 - val_loss: 0.0107\n",
      "Epoch 31/100\n",
      "60000/60000 [==============================] - 1s 25us/step - loss: 0.0105 - val_loss: 0.0107\n",
      "Epoch 32/100\n",
      "60000/60000 [==============================] - 2s 25us/step - loss: 0.0104 - val_loss: 0.0106\n",
      "Epoch 33/100\n",
      "60000/60000 [==============================] - 2s 25us/step - loss: 0.0103 - val_loss: 0.0106\n",
      "Epoch 34/100\n",
      "60000/60000 [==============================] - 1s 25us/step - loss: 0.0102 - val_loss: 0.0105\n",
      "Epoch 35/100\n",
      "60000/60000 [==============================] - 1s 25us/step - loss: 0.0101 - val_loss: 0.0107\n",
      "Epoch 36/100\n",
      "60000/60000 [==============================] - 2s 25us/step - loss: 0.0100 - val_loss: 0.0103\n",
      "Epoch 37/100\n",
      "60000/60000 [==============================] - 1s 25us/step - loss: 0.0100 - val_loss: 0.0103\n",
      "Epoch 38/100\n",
      "60000/60000 [==============================] - 1s 25us/step - loss: 0.0099 - val_loss: 0.0102\n",
      "Epoch 39/100\n",
      "60000/60000 [==============================] - 1s 25us/step - loss: 0.0098 - val_loss: 0.0102\n",
      "Epoch 40/100\n",
      "60000/60000 [==============================] - 1s 25us/step - loss: 0.0098 - val_loss: 0.0101\n",
      "Epoch 41/100\n",
      "60000/60000 [==============================] - 1s 25us/step - loss: 0.0097 - val_loss: 0.0101\n",
      "Epoch 42/100\n",
      "60000/60000 [==============================] - 2s 25us/step - loss: 0.0096 - val_loss: 0.0102\n",
      "Epoch 43/100\n",
      "60000/60000 [==============================] - 1s 25us/step - loss: 0.0096 - val_loss: 0.0098\n",
      "Epoch 44/100\n",
      "60000/60000 [==============================] - 2s 25us/step - loss: 0.0095 - val_loss: 0.0097\n",
      "Epoch 45/100\n",
      "60000/60000 [==============================] - 1s 25us/step - loss: 0.0095 - val_loss: 0.0098\n",
      "Epoch 46/100\n",
      "60000/60000 [==============================] - 1s 25us/step - loss: 0.0094 - val_loss: 0.0097\n",
      "Epoch 47/100\n",
      "60000/60000 [==============================] - 1s 25us/step - loss: 0.0094 - val_loss: 0.0096\n",
      "Epoch 48/100\n",
      "60000/60000 [==============================] - 2s 25us/step - loss: 0.0093 - val_loss: 0.0096\n",
      "Epoch 49/100\n",
      "60000/60000 [==============================] - 2s 25us/step - loss: 0.0093 - val_loss: 0.0095\n",
      "Epoch 50/100\n",
      "60000/60000 [==============================] - 1s 24us/step - loss: 0.0092 - val_loss: 0.0095\n",
      "Epoch 51/100\n",
      "60000/60000 [==============================] - 1s 25us/step - loss: 0.0092 - val_loss: 0.0094\n",
      "Epoch 52/100\n",
      "60000/60000 [==============================] - 1s 24us/step - loss: 0.0091 - val_loss: 0.0096\n",
      "Epoch 53/100\n",
      "60000/60000 [==============================] - 1s 25us/step - loss: 0.0091 - val_loss: 0.0094\n",
      "Epoch 54/100\n",
      "60000/60000 [==============================] - 1s 24us/step - loss: 0.0090 - val_loss: 0.0095\n",
      "Epoch 55/100\n",
      "60000/60000 [==============================] - 1s 24us/step - loss: 0.0090 - val_loss: 0.0093\n",
      "Epoch 56/100\n",
      "60000/60000 [==============================] - 1s 24us/step - loss: 0.0090 - val_loss: 0.0093\n",
      "Epoch 57/100\n",
      "60000/60000 [==============================] - 2s 25us/step - loss: 0.0089 - val_loss: 0.0094\n",
      "Epoch 58/100\n",
      "60000/60000 [==============================] - 1s 25us/step - loss: 0.0089 - val_loss: 0.0093\n",
      "Epoch 59/100\n",
      "60000/60000 [==============================] - 1s 25us/step - loss: 0.0089 - val_loss: 0.0092\n",
      "Epoch 60/100\n",
      "60000/60000 [==============================] - 1s 24us/step - loss: 0.0088 - val_loss: 0.0093\n",
      "Epoch 61/100\n",
      "60000/60000 [==============================] - 1s 24us/step - loss: 0.0088 - val_loss: 0.0091\n",
      "Epoch 62/100\n",
      "60000/60000 [==============================] - 1s 25us/step - loss: 0.0088 - val_loss: 0.0091\n",
      "Epoch 63/100\n",
      "60000/60000 [==============================] - 2s 25us/step - loss: 0.0087 - val_loss: 0.0091\n",
      "Epoch 64/100\n",
      "60000/60000 [==============================] - 1s 24us/step - loss: 0.0087 - val_loss: 0.0091\n",
      "Epoch 65/100\n",
      "60000/60000 [==============================] - 1s 25us/step - loss: 0.0086 - val_loss: 0.0093\n",
      "Epoch 66/100\n",
      "60000/60000 [==============================] - 1s 25us/step - loss: 0.0086 - val_loss: 0.0091\n",
      "Epoch 67/100\n",
      "60000/60000 [==============================] - 1s 25us/step - loss: 0.0086 - val_loss: 0.0091\n",
      "Epoch 68/100\n",
      "60000/60000 [==============================] - 2s 25us/step - loss: 0.0086 - val_loss: 0.0090\n",
      "Epoch 69/100\n",
      "60000/60000 [==============================] - 1s 24us/step - loss: 0.0085 - val_loss: 0.0090\n",
      "Epoch 70/100\n",
      "60000/60000 [==============================] - 1s 25us/step - loss: 0.0085 - val_loss: 0.0089\n",
      "Epoch 71/100\n",
      "60000/60000 [==============================] - 1s 25us/step - loss: 0.0085 - val_loss: 0.0089\n",
      "Epoch 72/100\n",
      "60000/60000 [==============================] - 1s 24us/step - loss: 0.0084 - val_loss: 0.0088\n",
      "Epoch 73/100\n",
      "60000/60000 [==============================] - 1s 25us/step - loss: 0.0084 - val_loss: 0.0088\n",
      "Epoch 74/100\n",
      "60000/60000 [==============================] - 1s 24us/step - loss: 0.0084 - val_loss: 0.0088\n",
      "Epoch 75/100\n",
      "60000/60000 [==============================] - 1s 25us/step - loss: 0.0084 - val_loss: 0.0087\n",
      "Epoch 76/100\n",
      "60000/60000 [==============================] - 1s 24us/step - loss: 0.0083 - val_loss: 0.0087\n",
      "Epoch 77/100\n",
      "60000/60000 [==============================] - 1s 24us/step - loss: 0.0083 - val_loss: 0.0088\n",
      "Epoch 78/100\n",
      "60000/60000 [==============================] - 1s 25us/step - loss: 0.0083 - val_loss: 0.0087\n",
      "Epoch 79/100\n",
      "60000/60000 [==============================] - 1s 25us/step - loss: 0.0083 - val_loss: 0.0087\n",
      "Epoch 80/100\n",
      "60000/60000 [==============================] - 2s 25us/step - loss: 0.0082 - val_loss: 0.0088\n",
      "Epoch 81/100\n",
      "60000/60000 [==============================] - 1s 25us/step - loss: 0.0082 - val_loss: 0.0086\n",
      "Epoch 82/100\n",
      "60000/60000 [==============================] - 2s 25us/step - loss: 0.0082 - val_loss: 0.0086\n",
      "Epoch 83/100\n",
      "60000/60000 [==============================] - 1s 24us/step - loss: 0.0082 - val_loss: 0.0086\n",
      "Epoch 84/100\n",
      "60000/60000 [==============================] - 1s 25us/step - loss: 0.0082 - val_loss: 0.0087\n",
      "Epoch 85/100\n",
      "60000/60000 [==============================] - 1s 24us/step - loss: 0.0081 - val_loss: 0.0086\n",
      "Epoch 86/100\n",
      "60000/60000 [==============================] - 1s 24us/step - loss: 0.0081 - val_loss: 0.0086\n",
      "Epoch 87/100\n",
      "60000/60000 [==============================] - 2s 25us/step - loss: 0.0081 - val_loss: 0.0085\n",
      "Epoch 88/100\n",
      "60000/60000 [==============================] - 1s 24us/step - loss: 0.0081 - val_loss: 0.0085\n",
      "Epoch 89/100\n",
      "60000/60000 [==============================] - 1s 25us/step - loss: 0.0081 - val_loss: 0.0086\n",
      "Epoch 90/100\n",
      "60000/60000 [==============================] - 1s 25us/step - loss: 0.0081 - val_loss: 0.0084\n",
      "Epoch 91/100\n",
      "60000/60000 [==============================] - 2s 25us/step - loss: 0.0080 - val_loss: 0.0085\n",
      "Epoch 92/100\n",
      "60000/60000 [==============================] - 1s 24us/step - loss: 0.0080 - val_loss: 0.0084\n",
      "Epoch 93/100\n",
      "60000/60000 [==============================] - 1s 24us/step - loss: 0.0080 - val_loss: 0.0083\n",
      "Epoch 94/100\n",
      "60000/60000 [==============================] - 1s 24us/step - loss: 0.0080 - val_loss: 0.0084\n",
      "Epoch 95/100\n",
      "60000/60000 [==============================] - 1s 24us/step - loss: 0.0080 - val_loss: 0.0084\n",
      "Epoch 96/100\n",
      "60000/60000 [==============================] - 1s 24us/step - loss: 0.0079 - val_loss: 0.0085\n",
      "Epoch 97/100\n",
      "60000/60000 [==============================] - 1s 25us/step - loss: 0.0079 - val_loss: 0.0084\n",
      "Epoch 98/100\n",
      "60000/60000 [==============================] - 1s 25us/step - loss: 0.0079 - val_loss: 0.0083\n",
      "Epoch 99/100\n",
      "60000/60000 [==============================] - 1s 25us/step - loss: 0.0079 - val_loss: 0.0084\n",
      "Epoch 100/100\n",
      "60000/60000 [==============================] - 1s 25us/step - loss: 0.0078 - val_loss: 0.0083\n"
     ]
    }
   ],
   "source": [
    "autoencoder_fit = autoencoder.fit(\n",
    "    X_train,\n",
    "    X_train,\n",
    "    batch_size = minibatch_size,\n",
    "    epochs = epochs_train,\n",
    "    validation_data=(X_test, X_test))"
   ]
  },
  {
   "cell_type": "markdown",
   "metadata": {
    "colab_type": "text",
    "id": "MJPAN3JPp294"
   },
   "source": [
    "### Comparing loss for training and validation sets"
   ]
  },
  {
   "cell_type": "code",
   "execution_count": 0,
   "metadata": {
    "colab": {
     "base_uri": "https://localhost:8080/",
     "height": 329
    },
    "colab_type": "code",
    "id": "uM2bO5B7pyWj",
    "outputId": "2c0f02f5-8b98-4204-9cb1-c151d9fb70a5"
   },
   "outputs": [
    {
     "data": {
      "image/png": "[encoded data removed]",
      "text/plain": [
       "<Figure size 432x288 with 1 Axes>"
      ]
     },
     "metadata": {
      "tags": []
     },
     "output_type": "display_data"
    },
    {
     "data": {
      "text/plain": [
       "<Figure size 432x288 with 0 Axes>"
      ]
     },
     "execution_count": 18,
     "metadata": {
      "tags": []
     },
     "output_type": "execute_result"
    },
    {
     "data": {
      "text/plain": [
       "<Figure size 432x288 with 0 Axes>"
      ]
     },
     "metadata": {
      "tags": []
     },
     "output_type": "display_data"
    }
   ],
   "source": [
    "plt.plot(range(1, epochs_train + 1), autoencoder_fit.history['loss'], color='red', linestyle='dashed', linewidth=1.4, label='training')\n",
    "plt.plot(range(1, epochs_train + 1), autoencoder_fit.history['val_loss'], color='orange', linestyle='dashed', linewidth=1.4, label='validation')\n",
    "plt.grid(color='#ADD8E6', linestyle='-', linewidth=0.6)\n",
    "plt.title('Comparison of training and validation loss')\n",
    "plt.xlabel('Number of epochs')\n",
    "plt.ylabel('Loss')\n",
    "plt.legend(loc='upper right')\n",
    "plt.savefig('autoenc_km_train_vs_val_loss.jpg', format='jpg', dpi=1000)\n",
    "plt.show()\n",
    "plt.figure()"
   ]
  },
  {
   "cell_type": "markdown",
   "metadata": {
    "colab_type": "text",
    "id": "_dedoytczbbF"
   },
   "source": [
    "### Finding the encoded representations of training images"
   ]
  },
  {
   "cell_type": "code",
   "execution_count": 0,
   "metadata": {
    "colab": {},
    "colab_type": "code",
    "id": "QpDbql9ntc4N"
   },
   "outputs": [],
   "source": [
    "encoder = Model(inputs=autoencoder.input, outputs=autoencoder.layers[decoder_layer - 1].output)\n",
    "X_train_enc = encoder.predict(X_train)"
   ]
  },
  {
   "cell_type": "markdown",
   "metadata": {
    "colab_type": "text",
    "id": "YvKj5hUR009C"
   },
   "source": [
    "### Implementing K-Means on the encoded training images"
   ]
  },
  {
   "cell_type": "code",
   "execution_count": 0,
   "metadata": {
    "colab": {
     "base_uri": "https://localhost:8080/",
     "height": 68
    },
    "colab_type": "code",
    "id": "WwJfaACwt-wW",
    "outputId": "c6828355-dadb-4ce3-e999-e38c68696cb3"
   },
   "outputs": [
    {
     "data": {
      "text/plain": [
       "KMeans(algorithm='auto', copy_x=True, init='k-means++', max_iter=300,\n",
       "       n_clusters=10, n_init=10, n_jobs=None, precompute_distances='auto',\n",
       "       random_state=None, tol=0.0001, verbose=0)"
      ]
     },
     "execution_count": 20,
     "metadata": {
      "tags": []
     },
     "output_type": "execute_result"
    }
   ],
   "source": [
    "kmeans_enc = KMeans(n_clusters=n_clusters, n_init=10)\n",
    "kmeans_enc.fit(X_train_enc)"
   ]
  },
  {
   "cell_type": "markdown",
   "metadata": {
    "colab_type": "text",
    "id": "dkKRAjWHBXXJ"
   },
   "source": [
    "### Visualizing the Auto-Encoder based K-Means cluster centroids"
   ]
  },
  {
   "cell_type": "code",
   "execution_count": 0,
   "metadata": {
    "colab": {
     "base_uri": "https://localhost:8080/",
     "height": 223
    },
    "colab_type": "code",
    "id": "198umwU2BXXN",
    "outputId": "59ee04f7-a911-4a59-9895-940eb71c21da"
   },
   "outputs": [
    {
     "data": {
      "image/png": "[encoded data removed]",
      "text/plain": [
       "<Figure size 432x288 with 10 Axes>"
      ]
     },
     "metadata": {
      "tags": []
     },
     "output_type": "display_data"
    }
   ],
   "source": [
    "# building the decoder network\n",
    "input_shape = autoencoder.layers[decoder_layer].get_input_shape_at(0)\n",
    "input_layer = Input(shape=(input_shape[1], ))\n",
    "network = input_layer\n",
    "for layer in autoencoder.layers[decoder_layer:]:\n",
    "  network = layer(network)\n",
    "decoder = Model(input_layer, network)\n",
    "\n",
    "# decoding the encoded cluster centres\n",
    "cluster_centers_dec_km = decoder.predict(kmeans_enc.cluster_centers_)\n",
    "\n",
    "# viewing the cluster centres\n",
    "for i in range(n_clusters):\n",
    "  plt.subplot(2, 5, i + 1)\n",
    "  plt.imshow(cluster_centers_dec_km[i][:].reshape(28, 28), cmap='gray')\n",
    "  plt.title('Cluster ' + str(i))\n",
    "  plt.axis('off')"
   ]
  },
  {
   "cell_type": "markdown",
   "metadata": {
    "colab_type": "text",
    "id": "CZrOzSly3Mgt"
   },
   "source": [
    "### Predicting clusters for the encoded training and test set images"
   ]
  },
  {
   "cell_type": "code",
   "execution_count": 0,
   "metadata": {
    "colab": {},
    "colab_type": "code",
    "id": "0MGtGm6t3N2h"
   },
   "outputs": [],
   "source": [
    "Y_pred_train_enc_km = kmeans_enc.predict(encoder.predict(X_train))\n",
    "Y_pred_test_enc_km = kmeans_enc.predict(encoder.predict(X_test))"
   ]
  },
  {
   "cell_type": "markdown",
   "metadata": {
    "colab_type": "text",
    "id": "gHEgPplIZZQX"
   },
   "source": [
    "### Adjusting the predicted train and test set labels"
   ]
  },
  {
   "cell_type": "code",
   "execution_count": 0,
   "metadata": {
    "colab": {},
    "colab_type": "code",
    "id": "AZt2T-xEZZQb"
   },
   "outputs": [],
   "source": [
    "Y_pred_train_enc_km, adjusted_labels_enc_km = get_adjusted_labels(Y_train, Y_pred_train_enc_km)\n",
    "\n",
    "# replacing the labels 0 to 9 with 10 to 19\n",
    "for i in range(10):\n",
    "  Y_pred_test_enc_km = np.where(Y_pred_test_enc_km == i, i + 10, Y_pred_test_enc_km)\n",
    "# replacing the labels 10 to 19 with the adjusted ones\n",
    "for i in range(10):\n",
    "  Y_pred_test_enc_km = np.where(Y_pred_test_enc_km == i + 10, adjusted_labels_enc_km[i], Y_pred_test_enc_km)"
   ]
  },
  {
   "cell_type": "markdown",
   "metadata": {
    "colab_type": "text",
    "id": "-2RmEQmb3gDN"
   },
   "source": [
    "### Evaluating the Auto-Encoder based K-Means model"
   ]
  },
  {
   "cell_type": "markdown",
   "metadata": {
    "colab_type": "text",
    "id": "FqxAEfMKXcV5"
   },
   "source": [
    "#### On the training set"
   ]
  },
  {
   "cell_type": "code",
   "execution_count": 0,
   "metadata": {
    "colab": {
     "base_uri": "https://localhost:8080/",
     "height": 272
    },
    "colab_type": "code",
    "id": "4fx7tenbXedg",
    "outputId": "9520c45e-ad68-462b-f1be-f48a08959216"
   },
   "outputs": [
    {
     "name": "stdout",
     "output_type": "stream",
     "text": [
      "ANALYSIS FOR AUTO-ENCODER BASED K-MEANS CLUSTERING ALGORITHM\n",
      "\n",
      "Accuracy on the training set - 0.5283166666666667 \n",
      "\n",
      "Confusion Matrix for performance on the training set -\n",
      " [[3585    2   37  586   98    2 1678    1   11    0]\n",
      " [  45 4800    1  788   25    0  341    0    0    0]\n",
      " [  51    1   23   54 3191    2 2678    0    0    0]\n",
      " [ 165  251    5 4776  135    0  662    0    6    0]\n",
      " [   9    3   15  762 3882    0 1317    0   12    0]\n",
      " [   0    1  736    8    0 1801  138 3074    0  242]\n",
      " [ 883    2   56  325 1687    0 3046    0    1    0]\n",
      " [   0    0  732    0    0   19   10 4332    1  906]\n",
      " [  22    3 2483  101   48    2  790   32 2519    0]\n",
      " [   0    0  642    2    0 2213  115   93    0 2935]]\n"
     ]
    }
   ],
   "source": [
    "print(\"ANALYSIS FOR AUTO-ENCODER BASED K-MEANS CLUSTERING ALGORITHM\\n\")\n",
    "\n",
    "print(\"Accuracy on the training set -\", get_accuracy(Y_train, Y_pred_train_enc_km), \"\\n\")\n",
    "print(\"Confusion Matrix for performance on the training set -\\n\", get_confusion_matrix(Y_train, Y_pred_train_enc_km))"
   ]
  },
  {
   "cell_type": "markdown",
   "metadata": {
    "colab_type": "text",
    "id": "HDk-eRvfXeym"
   },
   "source": [
    "#### On the test set"
   ]
  },
  {
   "cell_type": "code",
   "execution_count": 0,
   "metadata": {
    "colab": {
     "base_uri": "https://localhost:8080/",
     "height": 272
    },
    "colab_type": "code",
    "id": "bb3yejmb0FHs",
    "outputId": "1843eb24-5a01-4d57-9723-5bc4c78e789e"
   },
   "outputs": [
    {
     "name": "stdout",
     "output_type": "stream",
     "text": [
      "ANALYSIS FOR AUTO-ENCODER BASED K-MEANS CLUSTERING ALGORITHM\n",
      "\n",
      "Accuracy on the test set - 0.5296 \n",
      "\n",
      "Confusion Matrix for performance on the test set -\n",
      " [[603   0   8  88  22   1 277   1   0   0]\n",
      " [  4 788   0 136   4   0  68   0   0   0]\n",
      " [ 10   0   5  10 498   0 477   0   0   0]\n",
      " [ 31  42   1 768  20   0 137   0   1   0]\n",
      " [  0   0   2 107 672   0 215   0   4   0]\n",
      " [  0   0 104   0   0 326  23 495   0  52]\n",
      " [151   1  14  61 271   0 501   0   1   0]\n",
      " [  0   0 125   0   0   3   0 704   0 168]\n",
      " [  3   1 390  17  11   0 153   7 418   0]\n",
      " [  0   0 103   1   0 350  23  12   0 511]]\n"
     ]
    }
   ],
   "source": [
    "print(\"ANALYSIS FOR AUTO-ENCODER BASED K-MEANS CLUSTERING ALGORITHM\\n\")\n",
    "\n",
    "print(\"Accuracy on the test set -\", get_accuracy(Y_test, Y_pred_test_enc_km), \"\\n\")\n",
    "print(\"Confusion Matrix for performance on the test set -\\n\", get_confusion_matrix(Y_test, Y_pred_test_enc_km))"
   ]
  },
  {
   "cell_type": "markdown",
   "metadata": {
    "colab_type": "text",
    "id": "fFGrcgPt3zVg"
   },
   "source": [
    "## Task 3: Using Auto-Encoder based GMM to cluster the Fashion MNIST data space"
   ]
  },
  {
   "cell_type": "markdown",
   "metadata": {
    "colab_type": "text",
    "id": "Fgkoygn84AD9"
   },
   "source": [
    "### Implementing GMM on the encoded training images"
   ]
  },
  {
   "cell_type": "code",
   "execution_count": 0,
   "metadata": {
    "colab": {
     "base_uri": "https://localhost:8080/",
     "height": 102
    },
    "colab_type": "code",
    "id": "n2po_jDtvbRm",
    "outputId": "fdc46c01-26d3-4441-f127-0b5d32ef1624"
   },
   "outputs": [
    {
     "data": {
      "text/plain": [
       "GaussianMixture(covariance_type='full', init_params='kmeans', max_iter=100,\n",
       "                means_init=None, n_components=10, n_init=1,\n",
       "                precisions_init=None, random_state=1, reg_covar=1e-06,\n",
       "                tol=0.001, verbose=0, verbose_interval=10, warm_start=False,\n",
       "                weights_init=None)"
      ]
     },
     "execution_count": 26,
     "metadata": {
      "tags": []
     },
     "output_type": "execute_result"
    }
   ],
   "source": [
    "gmm_enc = GaussianMixture(n_components=n_clusters)\n",
    "gmm_enc.fit(X_train_enc)"
   ]
  },
  {
   "cell_type": "markdown",
   "metadata": {
    "colab_type": "text",
    "id": "7ST08OhsBvMz"
   },
   "source": [
    "### Visualizing the Auto-Encoder based GMM cluster centroids"
   ]
  },
  {
   "cell_type": "code",
   "execution_count": 0,
   "metadata": {
    "colab": {
     "base_uri": "https://localhost:8080/",
     "height": 223
    },
    "colab_type": "code",
    "id": "-fPTEupMBvM3",
    "outputId": "92a4f631-a481-4302-9702-abac801c7392"
   },
   "outputs": [
    {
     "data": {
      "image/png": "[encoded data removed]",
      "text/plain": [
       "<Figure size 432x288 with 10 Axes>"
      ]
     },
     "metadata": {
      "tags": []
     },
     "output_type": "display_data"
    }
   ],
   "source": [
    "# decoding the encoded cluster centres\n",
    "cluster_centers_dec_gmm = decoder.predict(gmm_enc.means_)\n",
    "\n",
    "# viewing the cluster centres\n",
    "for i in range(n_clusters):\n",
    "  plt.subplot(2, 5, i + 1)\n",
    "  plt.imshow(cluster_centers_dec_gmm[i][:].reshape(28, 28), cmap='gray')\n",
    "  plt.title('Cluster ' + str(i))\n",
    "  plt.axis('off')"
   ]
  },
  {
   "cell_type": "markdown",
   "metadata": {
    "colab_type": "text",
    "id": "fvfcmk554P4I"
   },
   "source": [
    "### Predicting clusters for the encoded training and test set images"
   ]
  },
  {
   "cell_type": "code",
   "execution_count": 0,
   "metadata": {
    "colab": {},
    "colab_type": "code",
    "id": "PV2RWYXO9Rq0"
   },
   "outputs": [],
   "source": [
    "Y_pred_train_enc_gmm = gmm_enc.predict(encoder.predict(X_train))\n",
    "Y_pred_test_enc_gmm = gmm_enc.predict(encoder.predict(X_test))"
   ]
  },
  {
   "cell_type": "markdown",
   "metadata": {
    "colab_type": "text",
    "id": "Akay5sYOYHXQ"
   },
   "source": [
    "### Adjusting the predicted train and test set labels"
   ]
  },
  {
   "cell_type": "code",
   "execution_count": 0,
   "metadata": {
    "colab": {},
    "colab_type": "code",
    "id": "_zAWGPNdZ0C2"
   },
   "outputs": [],
   "source": [
    "Y_pred_train_enc_gmm, adjusted_labels_enc_gmm = get_adjusted_labels(Y_train, Y_pred_train_enc_gmm)\n",
    "\n",
    "# replacing the labels 0 to 9 with 10 to 19\n",
    "for i in range(10):\n",
    "  Y_pred_test_enc_gmm = np.where(Y_pred_test_enc_gmm == i, i + 10, Y_pred_test_enc_gmm)\n",
    "# replacing the labels 10 to 19 with the adjusted ones\n",
    "for i in range(10):\n",
    "  Y_pred_test_enc_gmm = np.where(Y_pred_test_enc_gmm == i + 10, adjusted_labels_enc_gmm[i], Y_pred_test_enc_gmm)"
   ]
  },
  {
   "cell_type": "markdown",
   "metadata": {
    "colab_type": "text",
    "id": "1CXN9TSpBzSK"
   },
   "source": [
    "### Evaluating the Auto-Encoder based GMM"
   ]
  },
  {
   "cell_type": "markdown",
   "metadata": {
    "colab_type": "text",
    "id": "5zEsOjR2YjHO"
   },
   "source": [
    "#### On the training set"
   ]
  },
  {
   "cell_type": "code",
   "execution_count": 0,
   "metadata": {
    "colab": {
     "base_uri": "https://localhost:8080/",
     "height": 272
    },
    "colab_type": "code",
    "id": "nMSOkIcxYmzR",
    "outputId": "40cf658d-9e97-46dd-f040-f9f55b07c449"
   },
   "outputs": [
    {
     "name": "stdout",
     "output_type": "stream",
     "text": [
      "ANALYSIS FOR AUTO-ENCODER BASED K-MEANS CLUSTERING ALGORITHM\n",
      "\n",
      "Accuracy on the training set - 0.5734166666666667 \n",
      "\n",
      "Confusion Matrix for performance on the training set -\n",
      " [[4246    0  408  171   13  351  791    1   14    5]\n",
      " [   1 5142  105  263    1   32  456    0    0    0]\n",
      " [  25    0 2348   16 3388   92  123    0    5    3]\n",
      " [  67    0  163 3494   18   83 2174    0    1    0]\n",
      " [  10    0 1304   66 3272   69 1270    0    8    1]\n",
      " [   0    0    0    0    0 2946    0 2970    0   84]\n",
      " [1097    0 1385   73 2598  155  675    0    7   10]\n",
      " [   0    0    0    0    0   94    0 4771    0 1135]\n",
      " [   2    0  418   30    3  428   23   41 2929 2126]\n",
      " [   0    0    0    0    0 1269    1  148    0 4582]]\n"
     ]
    }
   ],
   "source": [
    "print(\"ANALYSIS FOR AUTO-ENCODER BASED K-MEANS CLUSTERING ALGORITHM\\n\")\n",
    "\n",
    "print(\"Accuracy on the training set -\", get_accuracy(Y_train, Y_pred_train_enc_gmm), \"\\n\")\n",
    "print(\"Confusion Matrix for performance on the training set -\\n\", get_confusion_matrix(Y_train, Y_pred_train_enc_gmm))"
   ]
  },
  {
   "cell_type": "markdown",
   "metadata": {
    "colab_type": "text",
    "id": "6NpQrlv0YlU2"
   },
   "source": [
    "#### On the test set"
   ]
  },
  {
   "cell_type": "code",
   "execution_count": 0,
   "metadata": {
    "colab": {
     "base_uri": "https://localhost:8080/",
     "height": 272
    },
    "colab_type": "code",
    "id": "2Q9rr0t09t4x",
    "outputId": "b738843b-2753-46a6-e50d-3fcaabe1dc14"
   },
   "outputs": [
    {
     "name": "stdout",
     "output_type": "stream",
     "text": [
      "ANALYSIS FOR AUTO-ENCODER BASED GMM CLUSTERING ALGORITHM\n",
      "\n",
      "Accuracy on the test set - 0.5761 \n",
      "\n",
      "Confusion Matrix for performance on the test set -\n",
      " [[689   0  84  27   3  62 128   1   5   1]\n",
      " [  0 850  17  45   0   2  86   0   0   0]\n",
      " [  9   0 399   1 555  12  23   0   0   1]\n",
      " [ 11   0  38 557   4  13 375   0   2   0]\n",
      " [  0   0 229  14 557  16 184   0   0   0]\n",
      " [  0   0   0   0   0 524   0 457   0  19]\n",
      " [186   0 226  15 413  21 130   0   2   7]\n",
      " [  0   0   0   0   0   8   0 778   0 214]\n",
      " [  0   0  90   7   2  65   1   8 493 334]\n",
      " [  0   0   0   0   0 197   0  19   0 784]]\n"
     ]
    }
   ],
   "source": [
    "print(\"ANALYSIS FOR AUTO-ENCODER BASED GMM CLUSTERING ALGORITHM\\n\")\n",
    "\n",
    "print(\"Accuracy on the test set -\", get_accuracy(Y_test, Y_pred_test_enc_gmm), \"\\n\")\n",
    "print(\"Confusion Matrix for performance on the test set -\\n\", get_confusion_matrix(Y_test, Y_pred_test_enc_gmm))"
   ]
  }
 ],
 "metadata": {
  "accelerator": "GPU",
  "colab": {
   "collapsed_sections": [],
   "name": "Copy of final.ipynb",
   "provenance": []
  },
  "kernelspec": {
   "display_name": "Python 3",
   "language": "python",
   "name": "python3"
  },
  "language_info": {
   "codemirror_mode": {
    "name": "ipython",
    "version": 3
   },
   "file_extension": ".py",
   "mimetype": "text/x-python",
   "name": "python",
   "nbconvert_exporter": "python",
   "pygments_lexer": "ipython3",
   "version": "3.7.3"
  }
 },
 "nbformat": 4,
 "nbformat_minor": 1
}
